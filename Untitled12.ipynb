{
  "nbformat": 4,
  "nbformat_minor": 0,
  "metadata": {
    "colab": {
      "provenance": []
    },
    "kernelspec": {
      "name": "python3",
      "display_name": "Python 3"
    },
    "language_info": {
      "name": "python"
    }
  },
  "cells": [
    {
      "cell_type": "markdown",
      "source": [
        "Minor Project "
      ],
      "metadata": {
        "id": "jbLfrcOxU0Wh"
      }
    },
    {
      "cell_type": "code",
      "source": [
        "# countdown using python  \n",
        "import time\n",
        "def countdown(t):\n",
        "    while t>0:\n",
        "        print(t)\n",
        "        t = t - 1\n",
        "        time.sleep(1)\n",
        "    print(\"Time's up\")\n",
        "\n",
        "print(\"How many second to count down? Enter an Integer.\")\n",
        "seconds = input()\n",
        "while not seconds.isdigit():\n",
        "    print(\"That wasn't an integer number! please Enter an integer\")\n",
        "    seconds = input()\n",
        "seconds = int(seconds)\n",
        "countdown(seconds)"
      ],
      "metadata": {
        "colab": {
          "base_uri": "https://localhost:8080/"
        },
        "id": "qxIfm6ROY29n",
        "outputId": "854ced7d-50f4-4e9a-f6ba-8514739b595c"
      },
      "execution_count": 4,
      "outputs": [
        {
          "output_type": "stream",
          "name": "stdout",
          "text": [
            "How many second to count down? Enter an Integer.\n",
            "10\n",
            "10\n",
            "9\n",
            "8\n",
            "7\n",
            "6\n",
            "5\n",
            "4\n",
            "3\n",
            "2\n",
            "1\n",
            "Time's up\n"
          ]
        }
      ]
    },
    {
      "cell_type": "code",
      "source": [
        "#pause\n",
        "import time\n",
        "print('hello')\n",
        "time.sleep(10)\n",
        "print('good moring')"
      ],
      "metadata": {
        "colab": {
          "base_uri": "https://localhost:8080/"
        },
        "id": "2S-4uAm-AvVW",
        "outputId": "4c77fefc-6c8b-434c-86e8-bed8591c07d4"
      },
      "execution_count": 6,
      "outputs": [
        {
          "output_type": "stream",
          "name": "stdout",
          "text": [
            "hello\n",
            "good moring\n"
          ]
        }
      ]
    },
    {
      "cell_type": "code",
      "source": [
        "import time\n",
        "my_time= int(input('enter the time:'))\n",
        "for x in range (my_time,0,-1):\n",
        "  seconds=x % 60\n",
        "  mintues=int(x/60)%60\n",
        "  hours=int(x/3600)\n",
        "  print(f'{hours:02}:{mintues:02}:{seconds:02}')\n",
        "  time.sleep(1)\n",
        "  \n",
        "print('TIME UPS')\n"
      ],
      "metadata": {
        "colab": {
          "base_uri": "https://localhost:8080/"
        },
        "id": "JU8n5siCCyfS",
        "outputId": "e17222bb-d277-41b4-fa13-154c7f08f4dd"
      },
      "execution_count": 13,
      "outputs": [
        {
          "output_type": "stream",
          "name": "stdout",
          "text": [
            "enter the time:5\n",
            "00:00:05\n",
            "00:00:04\n",
            "00:00:03\n",
            "00:00:02\n",
            "00:00:01\n",
            "TIME UPS\n"
          ]
        }
      ]
    }
  ]
}